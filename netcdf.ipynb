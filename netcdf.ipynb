{
 "cells": [
  {
   "cell_type": "markdown",
   "metadata": {},
   "source": [
    "## Write netcdf from DataArray"
   ]
  },
  {
   "cell_type": "code",
   "execution_count": null,
   "metadata": {},
   "outputs": [],
   "source": [
    "dataset=profile.to_dataset(name='wprimebprime')\n",
    "dataset['wprimebprime'].attrs=tdata.attrs\n",
    "dataset['wprimebprime'].attrs['standard_name']='vertical flux of small scales buoyancy'\n",
    "dataset.to_netcdf(path=profile_name,mode='w')"
   ]
  },
  {
   "cell_type": "markdown",
   "metadata": {},
   "source": [
    "# Open big dataset"
   ]
  },
  {
   "cell_type": "code",
   "execution_count": null,
   "metadata": {},
   "outputs": [],
   "source": [
    "# these are variables I just want to drop forever\n",
    "\n",
    "drop_vars = ['nav_lat', 'nav_lon', 'somxl010', 'sosaline', 'sosstsst']\n",
    "extra_coord_vars = []\n",
    "chunks = dict(time_counter=1)\n",
    "open_kwargs = dict(drop_variables=(drop_vars + extra_coord_vars),\n",
    "                   chunks=chunks,\n",
    "                   decode_cf=True,\n",
    "                   decode_times=True,\n",
    "                   concat_dim=\"time_counter\")  #, combine='nested')\n",
    "files=sorted(glob.glob('/store/CT1/hmg2840/lbrodeau/eNATL60/eNATL60-BLB002*-S/*/eNATL60*gridT-2D*nc'))\n",
    "ds = xr.open_mfdataset(files, parallel=True, **open_kwargs)\n",
    "template = xr.open_dataset(files[0], decode_cf=False, decode_times=False)\n",
    "ds[\"nav_lat\"] = template[\"nav_lat\"]\n",
    "ds[\"nav_lon\"] = template[\"nav_lon\"]\n",
    "ds\n",
    "del template\n"
   ]
  }
 ],
 "metadata": {
  "kernelspec": {
   "display_name": "Python 3",
   "language": "python",
   "name": "python3"
  },
  "language_info": {
   "codemirror_mode": {
    "name": "ipython",
    "version": 3
   },
   "file_extension": ".py",
   "mimetype": "text/x-python",
   "name": "python",
   "nbconvert_exporter": "python",
   "pygments_lexer": "ipython3",
   "version": "3.7.3"
  }
 },
 "nbformat": 4,
 "nbformat_minor": 2
}
