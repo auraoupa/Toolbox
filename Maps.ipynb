{
 "cells": [
  {
   "cell_type": "code",
   "execution_count": null,
   "metadata": {},
   "outputs": [],
   "source": [
    "#lines on a map\n",
    "import cartopy.crs as ccrs\n",
    "import cartopy.feature as cfeature\n",
    "from cartopy.mpl.gridliner import LONGITUDE_FORMATTER, LATITUDE_FORMATTER\n",
    "\n",
    "fig=plt.figure(figsize=(20,15))\n",
    "ax = plt.subplot(111,projection=ccrs.PlateCarree(central_longitude=0))\n",
    "ax.set_extent((-100, 50, 0, 70))\n",
    "land = cfeature.GSHHSFeature(scale='intermediate',\n",
    "                                 levels=[1],\n",
    "                                 facecolor=cfeature.COLORS['land'])\n",
    "ax.add_feature(land)\n",
    "gl = ax.gridlines(draw_labels=True, linestyle=':', color='black',\n",
    "                      alpha=0.5)\n",
    "gl.xlabels_top = False\n",
    "gl.ylabels_right = False\n",
    "gl.xformatter = LONGITUDE_FORMATTER\n",
    "gl.yformatter = LATITUDE_FORMATTER\n",
    "ax.tick_params('both',labelsize=22)\n",
    "\n",
    "ax.text(0.49, 0.41, 'Box ACO', transform=ax.transAxes)\n",
    "\n",
    "ax.plot([-31, -28], [33, 33],color='black',linewidth=3)\n",
    "ax.plot([-31, -28], [36, 36],color='black',linewidth=3)\n",
    "ax.plot([-31, -31], [33, 36],color='black',linewidth=3)\n",
    "ax.plot([-28, -28], [33, 36],color='black',linewidth=3)\n"
   ]
  }
 ],
 "metadata": {
  "kernelspec": {
   "display_name": "Python 3",
   "language": "python",
   "name": "python3"
  },
  "language_info": {
   "codemirror_mode": {
    "name": "ipython",
    "version": 3
   },
   "file_extension": ".py",
   "mimetype": "text/x-python",
   "name": "python",
   "nbconvert_exporter": "python",
   "pygments_lexer": "ipython3",
   "version": "3.7.3"
  }
 },
 "nbformat": 4,
 "nbformat_minor": 2
}
