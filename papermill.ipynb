{
 "cells": [
  {
   "cell_type": "code",
   "execution_count": null,
   "metadata": {},
   "outputs": [],
   "source": [
    "!pip install papermill"
   ]
  },
  {
   "cell_type": "markdown",
   "metadata": {},
   "source": [
    "in a notebook for the block of parameters, clique on Affichage/Barre d'outil de cellule/Tags et ajouter parameters"
   ]
  },
  {
   "cell_type": "code",
   "execution_count": null,
   "metadata": {},
   "outputs": [],
   "source": [
    "import papermill as pm\n",
    "pm.execute_notebook('/scratch/cnt0024/hmg2840/albert7a/DEV/git/monitoring-simus-occigen/2019-12-03-AA-compute-ke-time-series.ipynb','/scratch/cnt0024/hmg2840/albert7a/DEV/git/monitoring-simus-occigen/output_time_series.ipynb',parameters=dict(config='EU36',case='MPC001',freq='1d',time_serie_surf_eke=False,time_serie_surf_tke=False,time_serie_0_100m_tke=True))"
   ]
  }
 ],
 "metadata": {
  "kernelspec": {
   "display_name": "Python 3",
   "language": "python",
   "name": "python3"
  },
  "language_info": {
   "codemirror_mode": {
    "name": "ipython",
    "version": 3
   },
   "file_extension": ".py",
   "mimetype": "text/x-python",
   "name": "python",
   "nbconvert_exporter": "python",
   "pygments_lexer": "ipython3",
   "version": "3.7.3"
  }
 },
 "nbformat": 4,
 "nbformat_minor": 2
}
